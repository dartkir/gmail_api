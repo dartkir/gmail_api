{
 "cells": [
  {
   "cell_type": "markdown",
   "id": "4cba0e2d",
   "metadata": {},
   "source": [
    "# Взаимодействие с GMail через API"
   ]
  },
  {
   "cell_type": "markdown",
   "id": "14fdd09c",
   "metadata": {},
   "source": [
    "## Установка библиотек\n",
    "Для установки библиотек выполнить следующий код\n",
    "```\n",
    "pip install google-api-python-client google-auth-httplib2 google-auth-oauthlib\n",
    "```"
   ]
  },
  {
   "cell_type": "markdown",
   "id": "bb57a508",
   "metadata": {},
   "source": [
    "## Импорт библиотек"
   ]
  },
  {
   "cell_type": "code",
   "execution_count": 1,
   "id": "17f323dc",
   "metadata": {},
   "outputs": [],
   "source": [
    "import os\n",
    "import pickle\n",
    "from googleapiclient.discovery import build\n",
    "from google_auth_oauthlib.flow import InstalledAppFlow\n",
    "from google.auth.transport.requests import Request\n",
    "from base64 import urlsafe_b64decode, urlsafe_b64encode\n",
    "from email.mime.text import MIMEText\n",
    "from email.mime.multipart import MIMEMultipart\n",
    "from email.mime.image import MIMEImage\n",
    "from email.mime.audio import MIMEAudio\n",
    "from email.mime.base import MIMEBase\n",
    "from email.mime.multipart import MIMEMultipart\n",
    "from mimetypes import guess_type as guess_mime_type"
   ]
  },
  {
   "cell_type": "markdown",
   "id": "dec1e93e",
   "metadata": {},
   "source": [
    "## Указание сервера и почты\n",
    "Указываем почтовый сервер и почту, к которой необходимо получить доступ."
   ]
  },
  {
   "cell_type": "code",
   "execution_count": null,
   "id": "29bb3bf5",
   "metadata": {},
   "outputs": [],
   "source": [
    "SCOPES = ['https://mail.google.com/']\n",
    "our_email = 'mail@gmail.com'"
   ]
  },
  {
   "cell_type": "markdown",
   "id": "cc3b0070",
   "metadata": {},
   "source": [
    "## 1. Авторизация\n",
    "#### Описание функции\n",
    "Для авторизации необходимо: \n",
    "- Создать OAuth 2.0 Client;\n",
    "- В настройках приложения предоставить доступ к нужной почте этому клиенту;\n",
    "- Разрешить приложению использовать API GMail;\n",
    "- Скачать JSON с данными подключения;\n",
    "    \n",
    "Это можно сделать по адресу: https://console.cloud.google.com/apis/credentials"
   ]
  },
  {
   "cell_type": "code",
   "execution_count": 130,
   "id": "a1e42b82",
   "metadata": {},
   "outputs": [],
   "source": [
    "def gmail_authenticate(path_credentials):\n",
    "    ''' Функция для авторизации в GMail '''\n",
    "    \n",
    "    creds = None\n",
    "    \n",
    "    if os.path.exists(\"token.pickle\"):\n",
    "        with open(\"token.pickle\", \"rb\") as token:\n",
    "            creds = pickle.load(token)\n",
    "            \n",
    "    if not creds or not creds.valid:\n",
    "        if creds and creds.expired and creds.refresh_token:\n",
    "            creds.refresh(Request())\n",
    "        else:\n",
    "            flow = InstalledAppFlow.from_client_secrets_file(path_credentials, SCOPES)\n",
    "            creds = flow.run_local_server(port=0)\n",
    "            \n",
    "        with open(\"token.pickle\", \"wb\") as token:\n",
    "            pickle.dump(creds, token)\n",
    "            \n",
    "    return build('gmail', 'v1', credentials=creds)"
   ]
  },
  {
   "cell_type": "markdown",
   "id": "6be1681c",
   "metadata": {},
   "source": [
    "#### Пример\n",
    "Подключаем при помощи сгенерированного ранее JSON с данными подключения."
   ]
  },
  {
   "cell_type": "code",
   "execution_count": 139,
   "id": "53c11985",
   "metadata": {},
   "outputs": [],
   "source": [
    "path_credentials = 'credentials.json'\n",
    "service = gmail_authenticate(path_credentials)"
   ]
  },
  {
   "cell_type": "markdown",
   "id": "0b90f789",
   "metadata": {},
   "source": [
    "## 2. Поиск писем по строке\n",
    "#### Описание функции\n",
    "Поиск осуществляется по входящей строке. Описание метода доступно по ссылке: https://developers.google.com/gmail/api/reference/rest/v1/users.messages/list?hl=en"
   ]
  },
  {
   "cell_type": "code",
   "execution_count": 6,
   "id": "cd0c7f4d",
   "metadata": {},
   "outputs": [],
   "source": [
    "def search_messages(service, query, include_spam_trash):\n",
    "    ''' Поиск писем '''\n",
    "    \n",
    "    result = service.users().messages().list(userId='me', includeSpamTrash=include_spam_trash).execute()\n",
    "    messages = []\n",
    "    \n",
    "    if 'messages' in result:\n",
    "        messages.extend(result['messages'])\n",
    "    while 'nextPageToken' in result:\n",
    "        page_token = result['nextPageToken']\n",
    "        result = service.users().messages().list(userId='me',q=query, pageToken=page_token).execute()\n",
    "        if 'messages' in result:\n",
    "            messages.extend(result['messages'])\n",
    "            \n",
    "    return messages"
   ]
  },
  {
   "cell_type": "markdown",
   "id": "b798048d",
   "metadata": {},
   "source": [
    "#### Пример"
   ]
  },
  {
   "cell_type": "code",
   "execution_count": null,
   "id": "17d460ce",
   "metadata": {},
   "outputs": [],
   "source": [
    "query = 'яндекс'\n",
    "include_spam_trash = False\n",
    "\n",
    "results = search_messages(service, query, include_spam_trash)"
   ]
  },
  {
   "cell_type": "markdown",
   "id": "146a9f32",
   "metadata": {},
   "source": [
    "## 3. Чтение содержания писем\n",
    "#### Описание функции\n",
    "Получаем необходимую информацию о письмах. В рамках моей задачи вычитываем:\n",
    "- id письма\n",
    "- отправителя \n",
    "- получателя \n",
    "- тему\n",
    "- дату "
   ]
  },
  {
   "cell_type": "code",
   "execution_count": 7,
   "id": "b4bf306e",
   "metadata": {},
   "outputs": [],
   "source": [
    "def read_message(service, message_id):\n",
    "    ''' Чтение писем '''\n",
    "    \n",
    "    msg = service.users().messages().get(userId='me', id=message_id['id'], format='full').execute()\n",
    "\n",
    "    payload = msg['payload']\n",
    "    headers = payload.get(\"headers\")\n",
    "    parts = payload.get(\"parts\")\n",
    "    folder_name = \"email\"\n",
    "    \n",
    "    _message_id = message_id['id']\n",
    "    _from = ''\n",
    "    _to = ''\n",
    "    _subject = ''\n",
    "    _date =  ''\n",
    "    \n",
    "    if headers:\n",
    "        for header in headers:\n",
    "            \n",
    "            name = header.get(\"name\")\n",
    "            value = header.get(\"value\")\n",
    "            \n",
    "            if name.lower() == 'from':\n",
    "                _from = value\n",
    "                \n",
    "               \n",
    "            if name.lower() == \"to\":\n",
    "                _to = value\n",
    "                \n",
    "                \n",
    "            if name.lower() == \"subject\":\n",
    "                _subject = value\n",
    "                \n",
    "                \n",
    "            if name.lower() == \"date\":\n",
    "                _date = value\n",
    "                \n",
    "        \n",
    "        return [_message_id, _from, _to, _subject, _date]"
   ]
  },
  {
   "cell_type": "markdown",
   "id": "78d5d6f6",
   "metadata": {},
   "source": [
    "#### Пример\n",
    "После чтения данных, для удобства дальнейшей работы формируем список списков и создаем **Pandas.DataFrame**"
   ]
  },
  {
   "cell_type": "code",
   "execution_count": 10,
   "id": "3be4f851",
   "metadata": {},
   "outputs": [],
   "source": [
    "import pandas as pd\n",
    "\n",
    "list_of_msg = []\n",
    "\n",
    "for msg in results:\n",
    "    msg_info = read_message(service, msg)\n",
    "    list_of_msg.append(msg_info)\n",
    "    \n",
    "df = pd.DataFrame(list_of_msg, columns=['message_id','from', 'to', 'subject', 'date'])"
   ]
  },
  {
   "cell_type": "markdown",
   "id": "b445fea0",
   "metadata": {},
   "source": [
    "## 4. Таргетированное удаление\n",
    "#### Описание функции\n",
    "\n",
    "В API GMail есть возможность таргетированного удаления писем по id письма. Описание метода доступно по ссылке: https://developers.google.com/gmail/api/reference/rest/v1/users.messages/delete?hl=en"
   ]
  },
  {
   "cell_type": "code",
   "execution_count": 129,
   "id": "dda24bb8",
   "metadata": {},
   "outputs": [],
   "source": [
    "def delete_message(service, message_id):\n",
    "    ''' Таргетированное удаление письма '''\n",
    "    \n",
    "    service.users().messages().delete(\n",
    "      userId='me',\n",
    "      id= message_id\n",
    "    ).execute()"
   ]
  },
  {
   "cell_type": "markdown",
   "id": "9ee1cf17",
   "metadata": {},
   "source": [
    "#### Пример"
   ]
  },
  {
   "cell_type": "code",
   "execution_count": null,
   "id": "43dacd58",
   "metadata": {},
   "outputs": [],
   "source": [
    "message_id = 'some_message_id'\n",
    "\n",
    "delete_message(service, message_id)"
   ]
  },
  {
   "cell_type": "markdown",
   "id": "eb1123be",
   "metadata": {},
   "source": [
    "## 5. Перенос в корзину\n",
    "\n",
    "#### Описание функции\n",
    "\n",
    "Перенос в корзину осуществляется по id письма. Описание метода доступно по ссылке: https://developers.google.com/gmail/api/reference/rest/v1/users.messages/trash?hl=en"
   ]
  },
  {
   "cell_type": "code",
   "execution_count": 137,
   "id": "1897a106",
   "metadata": {},
   "outputs": [],
   "source": [
    "def put_to_trash(service, message_id):\n",
    "    ''' Перенос в корзину '''\n",
    "    \n",
    "    service.users().messages().trash(\n",
    "      userId='me',\n",
    "      id= message_id\n",
    "    ).execute()  "
   ]
  },
  {
   "cell_type": "markdown",
   "id": "9a720033",
   "metadata": {},
   "source": [
    "#### Пример "
   ]
  },
  {
   "cell_type": "code",
   "execution_count": null,
   "id": "85f2ae4c",
   "metadata": {},
   "outputs": [],
   "source": [
    "for index, row in df[~df['domen'].isin(['@mail.ru', '@gmail.com'])].iterrows():\n",
    "    put_to_trash(service, row['message_id'])"
   ]
  }
 ],
 "metadata": {
  "kernelspec": {
   "display_name": "Python 3",
   "language": "python",
   "name": "python3"
  },
  "language_info": {
   "codemirror_mode": {
    "name": "ipython",
    "version": 3
   },
   "file_extension": ".py",
   "mimetype": "text/x-python",
   "name": "python",
   "nbconvert_exporter": "python",
   "pygments_lexer": "ipython3",
   "version": "3.7.6"
  }
 },
 "nbformat": 4,
 "nbformat_minor": 5
}
